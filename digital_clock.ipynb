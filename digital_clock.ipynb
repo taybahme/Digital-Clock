{
 "cells": [
  {
   "cell_type": "code",
   "execution_count": null,
   "id": "578bd423-d6fd-4525-a5a8-d3eca42a64f6",
   "metadata": {},
   "outputs": [],
   "source": [
    "import tkinter as tk\n",
    "from time import strftime\n",
    "\n",
    "# Create the main window\n",
    "root = tk.Tk()\n",
    "root.title(\"Digital Clock\")\n",
    "\n",
    "# Function to update the time\n",
    "def update_time():\n",
    "    current_time = strftime('%H:%M:%S %p')  # Get the current time\n",
    "    time_label.config(text=current_time)    # Update the label with the current time\n",
    "    time_label.after(1000, update_time)     # Call this function every 1000ms (1 second)\n",
    "\n",
    "# Create and configure the time label\n",
    "time_label = tk.Label(root, font=(\"Helvetica\", 56), background=\"white\", foreground=\"black\")\n",
    "time_label.pack(anchor=\"center\", fill=\"both\", expand=True)\n",
    "\n",
    "# Start the clock\n",
    "update_time()\n",
    "\n",
    "# Run the Tkinter event loop\n",
    "root.mainloop()\n"
   ]
  },
  {
   "cell_type": "code",
   "execution_count": null,
   "id": "9e3434b4-cdd6-45f3-8e5a-246448f05e89",
   "metadata": {},
   "outputs": [],
   "source": []
  }
 ],
 "metadata": {
  "kernelspec": {
   "display_name": "Python 3 (ipykernel)",
   "language": "python",
   "name": "python3"
  },
  "language_info": {
   "codemirror_mode": {
    "name": "ipython",
    "version": 3
   },
   "file_extension": ".py",
   "mimetype": "text/x-python",
   "name": "python",
   "nbconvert_exporter": "python",
   "pygments_lexer": "ipython3",
   "version": "3.12.4"
  }
 },
 "nbformat": 4,
 "nbformat_minor": 5
}
